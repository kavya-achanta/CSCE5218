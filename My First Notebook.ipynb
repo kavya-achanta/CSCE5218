{
 "cells": [
  {
   "cell_type": "code",
   "execution_count": 1,
   "id": "8b1dab0c",
   "metadata": {},
   "outputs": [
    {
     "name": "stdout",
     "output_type": "stream",
     "text": [
      "My Name is Kavya Sri Achanta\n"
     ]
    }
   ],
   "source": [
    "print(\"My Name is Kavya Sri Achanta\")"
   ]
  },
  {
   "cell_type": "code",
   "execution_count": null,
   "id": "823c2ce3",
   "metadata": {},
   "outputs": [],
   "source": []
  }
 ],
 "metadata": {
  "kernelspec": {
   "display_name": "Python 3 (ipykernel)",
   "language": "python",
   "name": "python3"
  },
  "language_info": {
   "codemirror_mode": {
    "name": "ipython",
    "version": 3
   },
   "file_extension": ".py",
   "mimetype": "text/x-python",
   "name": "python",
   "nbconvert_exporter": "python",
   "pygments_lexer": "ipython3",
   "version": "3.8.10"
  }
 },
 "nbformat": 4,
 "nbformat_minor": 5
}
