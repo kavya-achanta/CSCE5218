{
 "cells": [
  {
   "cell_type": "code",
   "execution_count": 1,
   "id": "8b1dab0c",
   "metadata": {},
   "outputs": [
    {
     "name": "stdout",
     "output_type": "stream",
     "text": [
      "My Name is Kavya Sri Achanta\n"
     ]
    }
   ],
   "source": [
    "print(\"My Name is Kavya Sri Achanta\")"
   ]
  },
  {
   "cell_type": "code",
   "execution_count": null,
   "id": "823c2ce3",
   "metadata": {},
   "outputs": [],
   "source": []
  }
 ],
 "metadata": {
  "kernelspec": {
   "display_name": "temp-env",
   "language": "python",
   "name": "python3"
  },
  "language_info": {
   "codemirror_mode": {
    "name": "ipython",
    "version": 3
   },
   "file_extension": ".py",
   "mimetype": "text/x-python",
   "name": "python",
   "nbconvert_exporter": "python",
   "pygments_lexer": "ipython3",
   "version": "3.8.10 (tags/v3.8.10:3d8993a, May  3 2021, 11:48:03) [MSC v.1928 64 bit (AMD64)]"
  },
  "vscode": {
   "interpreter": {
    "hash": "fd289885585bb850c6fb84f4d7df42738dc35c8d0f8b36e7a6313de859a89177"
   }
  }
 },
 "nbformat": 4,
 "nbformat_minor": 5
}
